{
 "cells": [
  {
   "cell_type": "markdown",
   "metadata": {},
   "source": [
    "# Homework 3: Language Modelling in Hangman"
   ]
  },
  {
   "cell_type": "markdown",
   "metadata": {
    "collapsed": true
   },
   "source": [
    "Student Name:Junxu Zhang\n",
    "\n",
    "Student ID:901264"
   ]
  },
  {
   "cell_type": "markdown",
   "metadata": {},
   "source": [
    "## General info"
   ]
  },
  {
   "cell_type": "markdown",
   "metadata": {},
   "source": [
    "<b>Due date</b>:  Friday, 17 May 2019 4pm\n",
    "\n",
    "<b>Submission method</b>: see LMS\n",
    "\n",
    "<b>Submission materials</b>: completed copy of this iPython notebook\n",
    "\n",
    "<b>Late submissions</b>: -20% per day\n",
    "\n",
    "<b>Marks</b>: 7% of mark for class (with 6% on correctness + 1% on quality and efficiency of your code)\n",
    "\n",
    "<b>Materials</b>: See the main class LMS page for information on the basic setup required for this class, including an iPython notebook viewer and the python packages NLTK, Numpy, Scipy, Matplotlib and Scikit-Learn. In particular, if you are not using a lab computer which already has it installed, we recommend installing all the data for NLTK, since you will need various parts of it to complete this assignment. You can also use any Python built-in packages, but do not use any other 3rd party packages; if your iPython notebook doesn't run on the marker's machine, you will lose marks. <b> You should use Python 3</b>. \n",
    "\n",
    "To familiarize yourself with NLTK, here is a free online book:  Steven Bird, Ewan Klein, and Edward Loper (2009). <a href=http://nltk.org/book>Natural Language Processing with Python</a>. O'Reilly Media Inc. You may also consult the <a href=https://www.nltk.org/api/nltk.html>NLTK API</a>.\n",
    "\n",
    "<b>Evaluation</b>: Your iPython notebook should run end-to-end without any errors in a reasonable amount of time, and you must follow all instructions provided below, including specific implementation requirements and instructions for what needs to be printed (please avoid printing output we don't ask for). You should edit the sections below where requested, but leave the rest of the code as is. You should leave the output from running your code in the iPython notebook you submit, to assist with marking. The amount each section is worth is given in parenthesis after the instructions. \n",
    "\n",
    "You will be marked not only on the correctness of your methods, but also the quality and efficency of your code: in particular, you should be careful to use Python built-in functions and operators when appropriate and pick descriptive variable names that adhere to <a href=\"https://www.python.org/dev/peps/pep-0008/\">Python style requirements</a>. If you think it might be unclear what you are doing, you should comment your code to help the marker make sense of it.\n",
    "\n",
    "<b>Updates</b>: Any major changes to the assignment will be announced via LMS. Minor changes and clarifications will be announced in the forum on LMS, we recommend you check the forum regularly.\n",
    "\n",
    "<b>Academic Misconduct</b>: For most people, collaboration will form a natural part of the undertaking of this homework, and we encourge you to discuss it in general terms with other students. However, this ultimately is still an individual task, and so reuse of code or other instances of clear influence will be considered cheating. We will be checking submissions for originality and will invoke the University’s <a href=\"http://academichonesty.unimelb.edu.au/policy.html\">Academic Misconduct policy</a> where inappropriate levels of collusion or plagiarism are deemed to have taken place.\n"
   ]
  },
  {
   "cell_type": "markdown",
   "metadata": {},
   "source": [
    "## Overview"
   ]
  },
  {
   "cell_type": "markdown",
   "metadata": {},
   "source": [
    "In this homework, you'll be creating an 'artificial intelligence' player for the classic Hangman word guessing game. You will need to implement several different automatic strategies based on character level language models. Your objective is to create an automatic player which makes the fewest mistakes."
   ]
  },
  {
   "cell_type": "markdown",
   "metadata": {},
   "source": [
    "## The Hangman Game (*No implementation is needed*)"
   ]
  },
  {
   "cell_type": "markdown",
   "metadata": {},
   "source": [
    "The <a href=\"https://en.wikipedia.org/wiki/Hangman_(game)\">Hangman game</a> is a simple game whereby one person thinks of a word, which they keep secret from their opponent, who tries to guess the word one character at a time. The game ends when the opponent makes more than a fixed number of incorrect guesses, or they figure out the secret word before then (in which case they *win*). \n",
    "\n",
    "Here's a simple version of the game. "
   ]
  },
  {
   "cell_type": "code",
   "execution_count": 2,
   "metadata": {},
   "outputs": [],
   "source": [
    "def hangman(secret_word, guesser, max_mistakes=8, verbose=True, **guesser_args):\n",
    "    \"\"\"\n",
    "        This function plays the hangman game with the provided gusser and returns the number of incorrect guesses. \n",
    "        \n",
    "        secret_word: a string of lower-case alphabetic characters, i.e., the answer to the game\n",
    "        guesser: a function which guesses the next character at each stage in the game\n",
    "            The function takes a:\n",
    "                mask: what is known of the word, as a string with _ denoting an unknown character\n",
    "                guessed: the set of characters which already been guessed in the game\n",
    "                guesser_args: additional (optional) keyword arguments, i.e., name=value\n",
    "        max_mistakes: limit on length of game, in terms of allowed mistakes\n",
    "        verbose: be chatty vs silent\n",
    "        guesser_args: keyword arguments to pass directly to the guesser function\n",
    "    \"\"\"\n",
    "    secret_word = secret_word.lower()\n",
    "    mask = ['_'] * len(secret_word)\n",
    "    guessed = set()\n",
    "    if verbose:\n",
    "        print(\"Starting hangman game. Target is\", ' '.join(mask), 'length', len(secret_word))\n",
    "    \n",
    "    mistakes = 0\n",
    "    while mistakes < max_mistakes:\n",
    "        if verbose:\n",
    "            print(\"You have\", (max_mistakes-mistakes), \"attempts remaining.\")\n",
    "        guess = guesser(mask, guessed, **guesser_args)\n",
    "\n",
    "        if verbose:\n",
    "            print('Guess is', guess)\n",
    "        if guess in guessed:\n",
    "            if verbose:\n",
    "                print('Already guessed this before.')\n",
    "            mistakes += 1\n",
    "        else:\n",
    "            guessed.add(guess)\n",
    "            if guess in secret_word:\n",
    "                for i, c in enumerate(secret_word):\n",
    "                    if c == guess:\n",
    "                        mask[i] = c\n",
    "                if verbose:\n",
    "                    print('Good guess:', ' '.join(mask))\n",
    "            else:\n",
    "                if verbose:\n",
    "                    print('Sorry, try again.')\n",
    "                mistakes += 1\n",
    "                \n",
    "        if '_' not in mask:\n",
    "            if verbose:\n",
    "                print('Congratulations, you won.')\n",
    "            return mistakes\n",
    "        \n",
    "    if verbose:\n",
    "        print('Out of guesses. The word was', secret_word)    \n",
    "    return mistakes"
   ]
  },
  {
   "cell_type": "markdown",
   "metadata": {},
   "source": [
    "Here is a human guesser allowing interactive play."
   ]
  },
  {
   "cell_type": "code",
   "execution_count": 3,
   "metadata": {},
   "outputs": [],
   "source": [
    "def human(mask, guessed, **kwargs):\n",
    "    \"\"\"\n",
    "    This is a simple function for manual play.\n",
    "    \"\"\"\n",
    "    print('Enter your guess:')\n",
    "    return "
   ]
  },
  {
   "cell_type": "markdown",
   "metadata": {},
   "source": [
    "If you want to play hangman interactively, please set `interactive` to True. When submitting your solution, set to False so we can automatically run the whole notebook using `Run All`."
   ]
  },
  {
   "cell_type": "code",
   "execution_count": 4,
   "metadata": {},
   "outputs": [],
   "source": [
    "interactive = True"
   ]
  },
  {
   "cell_type": "markdown",
   "metadata": {},
   "source": [
    "<b>For your testing:</b>"
   ]
  },
  {
   "cell_type": "markdown",
   "metadata": {},
   "source": [
    "You can play the game interactively using the following command:"
   ]
  },
  {
   "cell_type": "code",
   "execution_count": 5,
   "metadata": {},
   "outputs": [
    {
     "name": "stdout",
     "output_type": "stream",
     "text": [
      "Starting hangman game. Target is _ _ _ _ _ _ _ _ length 8\n",
      "You have 8 attempts remaining.\n",
      "Enter your guess:\n",
      "Guess is None\n"
     ]
    },
    {
     "ename": "TypeError",
     "evalue": "'in <string>' requires string as left operand, not NoneType",
     "output_type": "error",
     "traceback": [
      "\u001b[1;31m---------------------------------------------------------------------------\u001b[0m",
      "\u001b[1;31mTypeError\u001b[0m                                 Traceback (most recent call last)",
      "\u001b[1;32m<ipython-input-5-09b36610125a>\u001b[0m in \u001b[0;36m<module>\u001b[1;34m()\u001b[0m\n\u001b[0;32m      1\u001b[0m \u001b[1;32mif\u001b[0m \u001b[0minteractive\u001b[0m\u001b[1;33m:\u001b[0m\u001b[1;33m\u001b[0m\u001b[0m\n\u001b[1;32m----> 2\u001b[1;33m     \u001b[0mhangman\u001b[0m\u001b[1;33m(\u001b[0m\u001b[1;34m'whatever'\u001b[0m\u001b[1;33m,\u001b[0m \u001b[0mhuman\u001b[0m\u001b[1;33m,\u001b[0m \u001b[1;36m8\u001b[0m\u001b[1;33m,\u001b[0m \u001b[1;32mTrue\u001b[0m\u001b[1;33m)\u001b[0m\u001b[1;33m\u001b[0m\u001b[0m\n\u001b[0m",
      "\u001b[1;32m<ipython-input-2-2735b1af6d90>\u001b[0m in \u001b[0;36mhangman\u001b[1;34m(secret_word, guesser, max_mistakes, verbose, **guesser_args)\u001b[0m\n\u001b[0;32m     33\u001b[0m         \u001b[1;32melse\u001b[0m\u001b[1;33m:\u001b[0m\u001b[1;33m\u001b[0m\u001b[0m\n\u001b[0;32m     34\u001b[0m             \u001b[0mguessed\u001b[0m\u001b[1;33m.\u001b[0m\u001b[0madd\u001b[0m\u001b[1;33m(\u001b[0m\u001b[0mguess\u001b[0m\u001b[1;33m)\u001b[0m\u001b[1;33m\u001b[0m\u001b[0m\n\u001b[1;32m---> 35\u001b[1;33m             \u001b[1;32mif\u001b[0m \u001b[0mguess\u001b[0m \u001b[1;32min\u001b[0m \u001b[0msecret_word\u001b[0m\u001b[1;33m:\u001b[0m\u001b[1;33m\u001b[0m\u001b[0m\n\u001b[0m\u001b[0;32m     36\u001b[0m                 \u001b[1;32mfor\u001b[0m \u001b[0mi\u001b[0m\u001b[1;33m,\u001b[0m \u001b[0mc\u001b[0m \u001b[1;32min\u001b[0m \u001b[0menumerate\u001b[0m\u001b[1;33m(\u001b[0m\u001b[0msecret_word\u001b[0m\u001b[1;33m)\u001b[0m\u001b[1;33m:\u001b[0m\u001b[1;33m\u001b[0m\u001b[0m\n\u001b[0;32m     37\u001b[0m                     \u001b[1;32mif\u001b[0m \u001b[0mc\u001b[0m \u001b[1;33m==\u001b[0m \u001b[0mguess\u001b[0m\u001b[1;33m:\u001b[0m\u001b[1;33m\u001b[0m\u001b[0m\n",
      "\u001b[1;31mTypeError\u001b[0m: 'in <string>' requires string as left operand, not NoneType"
     ]
    }
   ],
   "source": [
    "if interactive:\n",
    "    hangman('whatever', human, 8, True)"
   ]
  },
  {
   "cell_type": "markdown",
   "metadata": {},
   "source": [
    "## 1. Preparing Test Set and Training Set (1 mark)"
   ]
  },
  {
   "cell_type": "markdown",
   "metadata": {
    "collapsed": true
   },
   "source": [
    "<b>Instructions</b>: We will be using the words occurring in the *Brown* corpus for *training* an artificial intelligence guessing algorithm, and for *evaluating* the quality of the algorithm. Note that we are intentionally making the hangman game hard, as the AI will need to cope with test words that it has not seen before, hence it will need to learn generalisable patterns of characters to make reasonable predictions.\n",
    "\n",
    "Your first task is to compute the unique word types occurring in the *Brown* corpus, using `nltk.corpus.Brown` and the `words` method, selecting only words that are entirely comprised of alphabetic characters, and lowercasing the words. Finally, randomly shuffle (`numpy.random.shuffle`) this collection of word types, and split them into disjoint training and testing sets. The test set should contain 1000 word types, and the rest should be in the training set. Your code should print the sizes of the training and test sets.\n",
    "\n",
    "Feel free to test your own Hangman performance using `hangman(numpy.random.choice(test_set), human, 8, True)`. It is surprisingly difficult (and addictive)!\n",
    "\n",
    "(1 mark)"
   ]
  },
  {
   "cell_type": "code",
   "execution_count": 36,
   "metadata": {},
   "outputs": [
    {
     "name": "stdout",
     "output_type": "stream",
     "text": [
      "40234\n",
      "1000\n",
      "39234\n"
     ]
    }
   ],
   "source": [
    "from nltk.corpus import brown\n",
    "import numpy as np\n",
    "\n",
    "np.random.seed(12345)\n",
    "\n",
    "# word_set stores all the unique word types in the Brown corpus\n",
    "word_set = []\n",
    "# test_set stores 1000 word types for testing\n",
    "test_set = []\n",
    "# training_set stores the rest word types for training\n",
    "training_set = []\n",
    "\n",
    "###\n",
    "# Your answer BEGINS HERE\n",
    "###\n",
    "#print(brown.paras()[:2])\n",
    "#print(brown.words())\n",
    "for word in brown.words():\n",
    "    if word.isalpha():     \n",
    "        word = word.lower()\n",
    "        if word not in word_set:\n",
    "            word_set.append(word)\n",
    "       # print(sentences,1)\n",
    "      #  for words in sentences:\n",
    "      #      pass\n",
    "#print(word_set)\n",
    "np.random.shuffle(word_set)\n",
    "\n",
    "test_set = word_set[-1000:]\n",
    "training_set = word_set[:-1000]\n",
    "\n",
    "###\n",
    "# Your answer ENDS HERE\n",
    "###\n",
    "\n",
    "print(len(word_set))\n",
    "print(len(test_set))\n",
    "print(len(training_set))"
   ]
  },
  {
   "cell_type": "markdown",
   "metadata": {},
   "source": [
    "<b>For your testing:</b>"
   ]
  },
  {
   "cell_type": "code",
   "execution_count": 37,
   "metadata": {},
   "outputs": [],
   "source": [
    "assert(len(word_set) > 35000 and len(word_set) < 45000)"
   ]
  },
  {
   "cell_type": "code",
   "execution_count": 38,
   "metadata": {},
   "outputs": [],
   "source": [
    "assert(len(test_set) == 1000)"
   ]
  },
  {
   "cell_type": "code",
   "execution_count": 39,
   "metadata": {},
   "outputs": [],
   "source": [
    "assert(len(training_set) + len(test_set) == len(word_set))"
   ]
  },
  {
   "cell_type": "code",
   "execution_count": 40,
   "metadata": {},
   "outputs": [
    {
     "name": "stdout",
     "output_type": "stream",
     "text": [
      "Starting hangman game. Target is _ _ _ _ _ _ _ _ _ length 9\n",
      "You have 8 attempts remaining.\n",
      "Enter your guess:\n",
      "Guess is None\n"
     ]
    },
    {
     "ename": "TypeError",
     "evalue": "'in <string>' requires string as left operand, not NoneType",
     "output_type": "error",
     "traceback": [
      "\u001b[1;31m---------------------------------------------------------------------------\u001b[0m",
      "\u001b[1;31mTypeError\u001b[0m                                 Traceback (most recent call last)",
      "\u001b[1;32m<ipython-input-40-7bb3862250ee>\u001b[0m in \u001b[0;36m<module>\u001b[1;34m()\u001b[0m\n\u001b[0;32m      1\u001b[0m \u001b[1;32mif\u001b[0m \u001b[0minteractive\u001b[0m\u001b[1;33m:\u001b[0m\u001b[1;33m\u001b[0m\u001b[0m\n\u001b[1;32m----> 2\u001b[1;33m     \u001b[0mhangman\u001b[0m\u001b[1;33m(\u001b[0m\u001b[0mnp\u001b[0m\u001b[1;33m.\u001b[0m\u001b[0mrandom\u001b[0m\u001b[1;33m.\u001b[0m\u001b[0mchoice\u001b[0m\u001b[1;33m(\u001b[0m\u001b[0mtest_set\u001b[0m\u001b[1;33m)\u001b[0m\u001b[1;33m,\u001b[0m \u001b[0mhuman\u001b[0m\u001b[1;33m,\u001b[0m \u001b[1;36m8\u001b[0m\u001b[1;33m,\u001b[0m \u001b[1;32mTrue\u001b[0m\u001b[1;33m)\u001b[0m\u001b[1;33m\u001b[0m\u001b[0m\n\u001b[0m",
      "\u001b[1;32m<ipython-input-2-2735b1af6d90>\u001b[0m in \u001b[0;36mhangman\u001b[1;34m(secret_word, guesser, max_mistakes, verbose, **guesser_args)\u001b[0m\n\u001b[0;32m     33\u001b[0m         \u001b[1;32melse\u001b[0m\u001b[1;33m:\u001b[0m\u001b[1;33m\u001b[0m\u001b[0m\n\u001b[0;32m     34\u001b[0m             \u001b[0mguessed\u001b[0m\u001b[1;33m.\u001b[0m\u001b[0madd\u001b[0m\u001b[1;33m(\u001b[0m\u001b[0mguess\u001b[0m\u001b[1;33m)\u001b[0m\u001b[1;33m\u001b[0m\u001b[0m\n\u001b[1;32m---> 35\u001b[1;33m             \u001b[1;32mif\u001b[0m \u001b[0mguess\u001b[0m \u001b[1;32min\u001b[0m \u001b[0msecret_word\u001b[0m\u001b[1;33m:\u001b[0m\u001b[1;33m\u001b[0m\u001b[0m\n\u001b[0m\u001b[0;32m     36\u001b[0m                 \u001b[1;32mfor\u001b[0m \u001b[0mi\u001b[0m\u001b[1;33m,\u001b[0m \u001b[0mc\u001b[0m \u001b[1;32min\u001b[0m \u001b[0menumerate\u001b[0m\u001b[1;33m(\u001b[0m\u001b[0msecret_word\u001b[0m\u001b[1;33m)\u001b[0m\u001b[1;33m:\u001b[0m\u001b[1;33m\u001b[0m\u001b[0m\n\u001b[0;32m     37\u001b[0m                     \u001b[1;32mif\u001b[0m \u001b[0mc\u001b[0m \u001b[1;33m==\u001b[0m \u001b[0mguess\u001b[0m\u001b[1;33m:\u001b[0m\u001b[1;33m\u001b[0m\u001b[0m\n",
      "\u001b[1;31mTypeError\u001b[0m: 'in <string>' requires string as left operand, not NoneType"
     ]
    }
   ],
   "source": [
    "if interactive:\n",
    "    hangman(np.random.choice(test_set), human, 8, True)"
   ]
  },
  {
   "cell_type": "markdown",
   "metadata": {},
   "source": [
    "## 2. Simple Guesser: Random Guessing (1 mark)"
   ]
  },
  {
   "cell_type": "markdown",
   "metadata": {},
   "source": [
    "<b>Instructions</b>: To set a baseline, your first *AI* attempt will be a trivial random method. For this you should implement a guessing method, similar to the `human` method above, i.e., using the same input arguments and returning a character. Your method should randomly choose a character from the range `'a'...'z'` after excluding the characters that have already been guessed in the current game (all subsequent AI approaches should also exclude previous guesses). You might want to use `numpy.random.choice` for this purpose.\n",
    "\n",
    "To help you measure the performance of this (and later) guesser, a `test_guesser` method that takes a guesser and measures the average number of incorrect guesses made over all the words in the `test_set` is provided to you. \n",
    "\n",
    "(1 mark)"
   ]
  },
  {
   "cell_type": "code",
   "execution_count": 41,
   "metadata": {},
   "outputs": [],
   "source": [
    "def test_guesser(guesser, test=test_set):\n",
    "    \"\"\"\n",
    "        This function takes a guesser and measures the average number of incorrect guesses made over all the words in the test_set. \n",
    "    \"\"\"\n",
    "    total = 0\n",
    "    for word in test:\n",
    "        total += hangman(word, guesser, 26, False)\n",
    "    return total / float(len(test))"
   ]
  },
  {
   "cell_type": "code",
   "execution_count": 42,
   "metadata": {},
   "outputs": [
    {
     "name": "stdout",
     "output_type": "stream",
     "text": [
      "\n",
      "Average number of incorrect guesses:  16.671\n"
     ]
    }
   ],
   "source": [
    "import string\n",
    "\n",
    "def random_guesser(mask, guessed, **kwargs):\n",
    "    \"\"\"\n",
    "        This function implements a random guesser. It returns the random guess. \n",
    "    \"\"\"\n",
    "    ###\n",
    "    # Your answer BEGINS HERE\n",
    "    ###\n",
    "    scope = ['a','b','c','d','e','f','g','h','i','j','k','l','m','n','o','p','q','r','s','t','u','v','w','x','y','z']\n",
    "    temp = np.random.choice(scope)\n",
    "    while temp in guessed:\n",
    "        temp = np.random.choice(scope)\n",
    "    #print(guessed)\n",
    "    return temp\n",
    "        \n",
    "    ###\n",
    "    # Your answer ENDS HERE\n",
    "    ###\n",
    "\n",
    "# uncomment to run a single hangman game with output shown (useful for debugging)\n",
    "#hangman(np.random.choice(test_set), random_guesser, 10, True)\n",
    "\n",
    "result = test_guesser(random_guesser)\n",
    "print()\n",
    "print(\"Average number of incorrect guesses: \", result)"
   ]
  },
  {
   "cell_type": "markdown",
   "metadata": {},
   "source": [
    "<b>For your testing:</b>"
   ]
  },
  {
   "cell_type": "code",
   "execution_count": 43,
   "metadata": {},
   "outputs": [],
   "source": [
    "assert(result > 10 and result < 20)"
   ]
  },
  {
   "cell_type": "markdown",
   "metadata": {},
   "source": [
    "## 3. Your First AI Guesser: Unigram Guesser (1 mark)"
   ]
  },
  {
   "cell_type": "markdown",
   "metadata": {},
   "source": [
    "**Instructions:** As your first real AI, you should train a *unigram* model over the training set.  This requires you to find the frequencies of characters over all training words. Using this model, you should write a guesser that returns the character with the highest probability. Remember to exclude already guessed characters. \n",
    "\n",
    "Hint: It should be much lower than random guessing.\n",
    "\n",
    "(1 mark)"
   ]
  },
  {
   "cell_type": "code",
   "execution_count": 44,
   "metadata": {},
   "outputs": [
    {
     "name": "stdout",
     "output_type": "stream",
     "text": [
      "Counter({'e': 35230, 'i': 26056, 'a': 24346, 's': 23722, 'n': 22615, 'r': 22078, 't': 20612, 'o': 19164, 'l': 16674, 'c': 12606, 'd': 12247, 'u': 10192, 'm': 8696, 'g': 8612, 'p': 8537, 'h': 7358, 'b': 5732, 'y': 5332, 'f': 4228, 'v': 3427, 'k': 2991, 'w': 2791, 'z': 1036, 'x': 838, 'j': 646, 'q': 529})\n",
      "\n",
      "Average number of incorrect guesses:  10.156\n"
     ]
    }
   ],
   "source": [
    "from collections import Counter\n",
    "\n",
    "# unigram_counts stores the frequencies of characters over all training words\n",
    "unigram_counts = Counter()\n",
    "\n",
    "###\n",
    "# Your answer BEGINS HERE\n",
    "###\n",
    "total = \"\"\n",
    "for term in training_set:\n",
    "    total += term\n",
    "unigram_counts['a'] = total.count('a')\n",
    "unigram_counts['b'] = total.count('b')\n",
    "unigram_counts['c'] = total.count('c')\n",
    "unigram_counts['d'] = total.count('d')\n",
    "unigram_counts['e'] = total.count('e')\n",
    "unigram_counts['f'] = total.count('f')\n",
    "unigram_counts['g'] = total.count('g')\n",
    "unigram_counts['h'] = total.count('h')\n",
    "unigram_counts['i'] = total.count('i')\n",
    "unigram_counts['j'] = total.count('j')\n",
    "unigram_counts['k'] = total.count('k')\n",
    "unigram_counts['l'] = total.count('l')\n",
    "unigram_counts['m'] = total.count('m')\n",
    "unigram_counts['n'] = total.count('n')\n",
    "unigram_counts['o'] = total.count('o')\n",
    "unigram_counts['p'] = total.count('p')\n",
    "unigram_counts['q'] = total.count('q')\n",
    "unigram_counts['r'] = total.count('r')\n",
    "unigram_counts['s'] = total.count('s')\n",
    "unigram_counts['t'] = total.count('t')\n",
    "unigram_counts['u'] = total.count('u')\n",
    "unigram_counts['v'] = total.count('v')\n",
    "unigram_counts['w'] = total.count('w')\n",
    "unigram_counts['x'] = total.count('x')\n",
    "unigram_counts['y'] = total.count('y')\n",
    "unigram_counts['z'] = total.count('z')\n",
    "#unigram_counts= dict(Counter(total))\n",
    "#unigram_counts = sorted(unigram_counts.values())\n",
    "#print(unigram_counts.most_common(1)[0][0])\n",
    "#print(len(unigram_counts))\n",
    "###\n",
    "# Your answer ENDS HERE\n",
    "###\n",
    "print(unigram_counts)\n",
    "\n",
    "def unigram_guesser(mask, guessed, unigram_counts=unigram_counts):\n",
    "    \"\"\"\n",
    "        This function implements a unigram guesser. It returns a guess based on the unigram model. \n",
    "    \"\"\"\n",
    "    ###\n",
    "    # Your answer BEGINS HERE\n",
    "    ###\n",
    "    temp = sorted(unigram_counts, key = unigram_counts.get, reverse = True)\n",
    "    #print(temp,len(temp))\n",
    "    result = list(filter(lambda x : x not in guessed, temp))\n",
    "    #print(mask)\n",
    "    return result[0] \n",
    "    ###\n",
    "    # Your answer ENDS HERE\n",
    "    ###\n",
    "\n",
    "#hangman(np.random.choice(test_set), unigram_guesser, 10, True)\n",
    "\n",
    "result = test_guesser(unigram_guesser)\n",
    "print()\n",
    "print(\"Average number of incorrect guesses: \", result)"
   ]
  },
  {
   "cell_type": "markdown",
   "metadata": {},
   "source": [
    "<b>For your testing:</b>"
   ]
  },
  {
   "cell_type": "code",
   "execution_count": 45,
   "metadata": {},
   "outputs": [],
   "source": [
    "assert(result > 5 and result < 15)"
   ]
  },
  {
   "cell_type": "markdown",
   "metadata": {},
   "source": [
    "## 4. Your Second AI Guesser: Length-based Unigram Guesser (1 mark)"
   ]
  },
  {
   "cell_type": "markdown",
   "metadata": {},
   "source": [
    "**Instructions:** The length of the secret word is an important clue that we might exploit. Different length words tend to have different distributions over characters, e.g., short words are less likely to have suffixes or prefixes. You should incorporate this idea by conditioning the unigram model on the length of the secret word, i.e., having a *different* unigram model for each length of the words. You will need to be a little careful at test time, to be robust to the (unlikely) situation that you encounter a word length that you didn't see in training. You need to decide on how to handle this situation.\n",
    "\n",
    "(1 mark)"
   ]
  },
  {
   "cell_type": "code",
   "execution_count": 46,
   "metadata": {
    "scrolled": true
   },
   "outputs": [
    {
     "name": "stdout",
     "output_type": "stream",
     "text": [
      "[1, 2, 3, 4, 5, 6, 7, 8, 9, 10, 11, 12, 13, 14, 15, 16, 17, 18, 19, 20, 21, 22]\n",
      "\n",
      "defaultdict(<class 'collections.Counter'>, {6: Counter({'e': 4246, 'a': 2685, 's': 2591, 'r': 2533, 'i': 2032, 'n': 1996, 'o': 1983, 'l': 1958, 't': 1846, 'd': 1619, 'u': 1144, 'c': 1065, 'm': 938, 'g': 882, 'h': 878, 'p': 853, 'b': 772, 'y': 707, 'f': 503, 'k': 456, 'w': 432, 'v': 395, 'z': 123, 'j': 106, 'x': 93, 'q': 50}), 11: Counter({'e': 2965, 'i': 2773, 'n': 2280, 't': 2164, 'a': 2029, 's': 2005, 'r': 1922, 'o': 1696, 'l': 1323, 'c': 1239, 'u': 854, 'd': 801, 'p': 776, 'm': 743, 'g': 642, 'h': 517, 'b': 420, 'y': 410, 'f': 293, 'v': 293, 'k': 134, 'w': 117, 'x': 72, 'z': 70, 'q': 44, 'j': 27}), 7: Counter({'e': 5336, 'a': 3534, 's': 3484, 'r': 3419, 'i': 3329, 'n': 3034, 't': 2649, 'o': 2501, 'l': 2485, 'd': 2054, 'c': 1669, 'u': 1512, 'g': 1498, 'm': 1241, 'p': 1229, 'h': 1106, 'b': 946, 'y': 730, 'f': 678, 'k': 587, 'w': 519, 'v': 457, 'z': 157, 'x': 110, 'j': 98, 'q': 81}), 8: Counter({'e': 5589, 'i': 3889, 's': 3675, 'a': 3668, 'n': 3507, 'r': 3485, 't': 2894, 'o': 2775, 'l': 2614, 'd': 2215, 'c': 1932, 'u': 1576, 'g': 1521, 'm': 1303, 'p': 1234, 'h': 1161, 'b': 851, 'y': 715, 'f': 711, 'v': 536, 'k': 518, 'w': 479, 'z': 116, 'x': 108, 'j': 84, 'q': 84}), 10: Counter({'e': 4363, 'i': 3635, 'n': 3098, 's': 2922, 't': 2802, 'a': 2790, 'r': 2664, 'o': 2391, 'l': 1946, 'c': 1682, 'd': 1409, 'u': 1300, 'g': 1095, 'p': 1076, 'm': 1056, 'h': 828, 'b': 616, 'y': 550, 'f': 464, 'v': 444, 'w': 209, 'k': 178, 'z': 113, 'x': 97, 'q': 67, 'j': 55}), 13: Counter({'i': 1292, 'e': 1048, 'n': 1037, 't': 973, 'a': 903, 'o': 845, 's': 805, 'r': 747, 'c': 571, 'l': 540, 'p': 355, 'm': 350, 'u': 338, 'd': 256, 'g': 246, 'h': 207, 'y': 205, 'b': 140, 'v': 118, 'f': 117, 'z': 37, 'x': 35, 'k': 27, 'w': 23, 'q': 20, 'j': 10}), 9: Counter({'e': 5436, 'i': 3954, 'n': 3471, 'a': 3450, 's': 3439, 'r': 3255, 't': 3064, 'o': 2619, 'l': 2344, 'c': 1914, 'd': 1865, 'u': 1451, 'g': 1374, 'm': 1233, 'p': 1153, 'h': 1028, 'b': 763, 'y': 650, 'f': 592, 'v': 533, 'w': 373, 'k': 370, 'z': 135, 'x': 126, 'q': 88, 'j': 68}), 5: Counter({'e': 2207, 's': 1837, 'a': 1825, 'r': 1372, 'o': 1325, 'l': 1199, 'i': 1154, 't': 1081, 'n': 1033, 'd': 775, 'c': 707, 'u': 671, 'h': 595, 'm': 575, 'y': 549, 'p': 528, 'b': 497, 'g': 460, 'k': 379, 'f': 334, 'w': 300, 'v': 234, 'z': 83, 'j': 79, 'x': 67, 'q': 29}), 14: Counter({'i': 721, 'e': 564, 'n': 543, 't': 529, 's': 459, 'a': 459, 'o': 456, 'r': 401, 'l': 328, 'c': 307, 'p': 179, 'u': 166, 'm': 164, 'd': 146, 'h': 126, 'y': 116, 'g': 115, 'b': 69, 'v': 64, 'f': 61, 'z': 33, 'x': 12, 'k': 11, 'w': 10, 'q': 6, 'j': 3}), 12: Counter({'e': 1897, 'i': 1886, 'n': 1533, 't': 1467, 'a': 1428, 's': 1307, 'r': 1270, 'o': 1235, 'l': 968, 'c': 891, 'u': 586, 'p': 558, 'm': 528, 'd': 504, 'g': 387, 'h': 385, 'y': 298, 'b': 258, 'f': 199, 'v': 193, 'z': 70, 'w': 52, 'k': 52, 'x': 41, 'q': 37, 'j': 18}), 4: Counter({'e': 898, 'a': 871, 's': 697, 'o': 680, 'l': 553, 'i': 538, 'r': 520, 't': 485, 'n': 467, 'd': 359, 'u': 347, 'm': 301, 'h': 292, 'p': 285, 'b': 259, 'c': 253, 'k': 226, 'g': 215, 'w': 194, 'y': 179, 'f': 173, 'v': 98, 'j': 61, 'z': 45, 'x': 36, 'q': 8}), 15: Counter({'i': 399, 't': 280, 'n': 273, 'e': 248, 'o': 247, 'a': 230, 's': 208, 'r': 193, 'c': 168, 'l': 165, 'p': 108, 'y': 78, 'u': 73, 'm': 71, 'h': 70, 'd': 70, 'g': 51, 'f': 26, 'b': 24, 'v': 20, 'z': 18, 'x': 8, 'k': 8, 'w': 4, 'q': 4, 'j': 1}), 2: Counter({'a': 26, 'e': 21, 's': 19, 'o': 19, 'm': 19, 'i': 16, 'h': 13, 'l': 13, 'p': 12, 'n': 11, 'd': 11, 'c': 11, 'u': 11, 'r': 9, 'b': 9, 'f': 9, 't': 9, 'w': 7, 'v': 7, 'y': 6, 'g': 6, 'j': 5, 'k': 5, 'x': 3, 'q': 2, 'z': 1}), 3: Counter({'a': 239, 'e': 200, 'o': 180, 'i': 130, 'n': 118, 't': 112, 's': 111, 'p': 104, 'r': 99, 'm': 99, 'u': 98, 'd': 98, 'b': 90, 'l': 80, 'y': 78, 'g': 77, 'h': 77, 'w': 72, 'c': 68, 'f': 51, 'k': 31, 'j': 29, 'v': 24, 'x': 23, 'z': 10, 'q': 6}), 16: Counter({'i': 164, 't': 127, 'e': 107, 'a': 105, 'n': 105, 'o': 103, 'r': 92, 'l': 87, 's': 84, 'c': 62, 'p': 46, 'h': 35, 'm': 35, 'y': 32, 'u': 31, 'd': 25, 'g': 22, 'z': 11, 'b': 11, 'f': 9, 'v': 6, 'x': 6, 'k': 4, 'q': 2, 'w': 1}), 1: Counter({'e': 2, 'v': 1, 'z': 1, 'x': 1, 'j': 1, 'd': 1, 'h': 1, 'm': 1, 'g': 1, 'p': 1, 'w': 1, 'y': 1, 't': 1, 'n': 1, 'u': 1, 'q': 1, 'c': 1, 'a': 1, 'l': 1, 'i': 1, 'r': 1, 'b': 1, 'f': 1, 'k': 1, 's': 1}), 18: Counter({'i': 47, 't': 45, 'e': 38, 's': 37, 'r': 33, 'o': 33, 'n': 32, 'a': 24, 'c': 22, 'l': 22, 'p': 14, 'd': 13, 'h': 12, 'm': 9, 'y': 9, 'u': 8, 'g': 6, 'f': 4, 'b': 2, 'k': 2, 'z': 1, 'v': 1}), 17: Counter({'i': 95, 't': 82, 'a': 73, 'e': 71, 'n': 69, 'r': 62, 'o': 59, 'l': 43, 's': 42, 'c': 40, 'p': 28, 'h': 26, 'm': 26, 'd': 24, 'y': 20, 'u': 19, 'g': 12, 'z': 10, 'b': 5, 'f': 3, 'v': 3, 'w': 1, 'x': 1, 'k': 1, 'j': 1}), 19: Counter({'o': 23, 'i': 16, 't': 15, 'n': 15, 'a': 12, 'l': 10, 'r': 10, 'c': 9, 'e': 8, 's': 7, 'g': 5, 'u': 5, 'h': 3, 'p': 3, 'd': 3, 'm': 3, 'z': 2, 'f': 2, 'y': 1}), 21: Counter({'o': 9, 'e': 6, 'i': 5, 'm': 5, 'c': 5, 'r': 5, 's': 5, 'l': 4, 'p': 4, 'h': 4, 'a': 3, 'u': 2, 'n': 2, 't': 2, 'y': 1, 'g': 1}), 20: Counter({'i': 10, 't': 8, 'n': 6, 'o': 4, 'a': 4, 's': 2, 'u': 2, 'l': 2, 'z': 2}), 22: Counter({'e': 8, 'l': 6, 'n': 6, 'a': 4, 's': 4, 'k': 2, 'y': 2, 'b': 2, 'z': 2, 'u': 2, 'f': 2, 'o': 2, 't': 2})})\n",
      "\n",
      "Average number of incorrect guesses:  10.199\n"
     ]
    }
   ],
   "source": [
    "from collections import defaultdict\n",
    "\n",
    "# unigram_counts_by_length stores a dictionary, mapping word length to the frequencies of characters of words with that word length\n",
    "unigram_counts_by_length = defaultdict(Counter)\n",
    "\n",
    "###\n",
    "# Your answer BEGINS HERE\n",
    "###\n",
    "\n",
    "for word in training_set:\n",
    "    if len(word) not in unigram_counts_by_length.keys():\n",
    "        unigram_counts_by_length[len(word)] = Counter(word)\n",
    "    if len(word) in unigram_counts_by_length.keys():\n",
    "        unigram_counts_by_length[len(word)] += Counter(word)\n",
    "\n",
    "###\n",
    "# Your answer ENDS HERE\n",
    "###\n",
    "\n",
    "lengths = sorted(unigram_counts_by_length.keys())\n",
    "max_length = lengths[-1] + 1\n",
    "print(lengths)\n",
    "print()\n",
    "print(unigram_counts_by_length)\n",
    "\n",
    "def unigram_length_guesser(mask, guessed, counts=unigram_counts_by_length):\n",
    "    \"\"\"\n",
    "        This function implements a length-based unigram guesser. It returns a guess based on the length-based unigram model. \n",
    "    \"\"\"\n",
    "    ###\n",
    "    # Your answer BEGINS HERE\n",
    "    ###\n",
    "    #temp = sorted(unigram_counts, key = unigram_counts.get, reverse = True)\n",
    "\n",
    "    scope = ['a','b','c','d','e','f','g','h','i','j','k','l','m','n','o','p','q','r','s','t','u','v','w','x','y','z']\n",
    "    for k in dict(counts):\n",
    "            #print(k)\n",
    "            if len(mask) == k:\n",
    "                temp = sorted(dict(counts)[k], key = dict(counts)[k].get, reverse = True)\n",
    "                \n",
    "                break\n",
    "       \n",
    "    result = list(filter(lambda x : x not in guessed, temp))\n",
    "    if result != []:\n",
    "        return result[0]\n",
    "    else:\n",
    "        return list(filter(lambda x : x not in guessed, scope))[0] \n",
    "    ###\n",
    "    # Your answer ENDS HERE\n",
    "    ###\n",
    "\n",
    "#hangman(np.random.choice(test_set), unigram_length_guesser, 10, True)\n",
    "\n",
    "result = test_guesser(unigram_length_guesser)\n",
    "print()\n",
    "print(\"Average number of incorrect guesses: \", result)"
   ]
  },
  {
   "cell_type": "markdown",
   "metadata": {},
   "source": [
    "<b>For your testing:</b>"
   ]
  },
  {
   "cell_type": "code",
   "execution_count": 47,
   "metadata": {},
   "outputs": [],
   "source": [
    "assert(result > 5 and result < 15)"
   ]
  },
  {
   "cell_type": "markdown",
   "metadata": {},
   "source": [
    "## 5. Your Third AI Guesser: Bigram Guesser (1 mark)"
   ]
  },
  {
   "cell_type": "markdown",
   "metadata": {},
   "source": [
    "**Instructions:** Now for the next challenge, using a *bigram* language model over characters. The order of characters is obviously important, yet this wasn't incorporated in any of the above models. Knowing that the word has the sequence `n _ s s` is a pretty strong clue that the missing character might be `e`. Similarly the distribution over characters that start or end a word are highly biased (e.g., toward common prefixes and suffixes, like *un-*, *-ed* and *-ly*).\n",
    "\n",
    "You should develop a *bigram* language model over characters, train this over the training words (being careful to handle the start of each word properly, e.g., by padding with a sentinel symbol `$`.) You should use *linear interpolation* to smooth between the higher order and lower order models, and you will have to decide how to weight each component (be reminded that all probabilities should sum to 1).\n",
    "\n",
    "Your bigram guesser should apply your language model to each blank position in the secret word by using the left context as is known. E.g., in the partial word `$ _ e c _ e _ _` we know the left context for the first three blanks, but have no known left context for the last blank. Using a bigram language model, we are able to apply it to the first three blanks only. You should then select the character with the highest probability of predicting the most number of correct entries over the blanks. \n",
    "\n",
    "Do you see any improvement over the unigram guessers above?\n",
    "\n",
    "(1 mark)"
   ]
  },
  {
   "cell_type": "code",
   "execution_count": 48,
   "metadata": {},
   "outputs": [
    {
     "name": "stdout",
     "output_type": "stream",
     "text": [
      "Average number of incorrect guesses:  8.728\n"
     ]
    }
   ],
   "source": [
    "###\n",
    "# Your answer BEGINS HERE\n",
    "###\n",
    "#for bigram model the start tag and end tag is required. \n",
    "#start tag is represented by $, the end tag is represented by # ?No need for end tag, the end tag only used in generate sentence\n",
    "import math\n",
    "def convert_word(word):\n",
    "    return ['$']+[c for c in word]\n",
    "\n",
    "bigram_counts = defaultdict(Counter) # you will want a different data structure to store the bigram \n",
    "\n",
    "for train_word in training_set:\n",
    "   # word_chars=list(train_word)\n",
    "    word_chars=convert_word(train_word)\n",
    "    bigram_list=zip(word_chars[:-1],word_chars[1:]) \n",
    "    for bigram in bigram_list:\n",
    "        first,second=bigram\n",
    "        bigram_counts[first][second] += 1\n",
    "\n",
    "def get_prob_interp(prev_c,cur_c,unigram_counts=unigram_counts,bigram_counts=bigram_counts,lambdas=(0.79,0.21)):\n",
    "    bigram_lambda=lambdas[0]\n",
    "    unigram_lambda=lambdas[1] \n",
    "    sm_bigram_counts=bigram_counts[prev_c][cur_c]*bigram_lambda\n",
    "    if sm_bigram_counts==0.0:\n",
    "        interp_bigram_pp=0\n",
    "    else:\n",
    "        if prev_c=='$':\n",
    "            u_counts=len(training_set)\n",
    "        else:\n",
    "            u_counts=unigram_counts[prev_c]\n",
    "        interp_bigram_pp=sm_bigram_counts/float(u_counts)\n",
    "    \n",
    "    total_char_occurance=sum(unigram_counts.values())\n",
    "    interp_unigram_pp=(unigram_counts[cur_c]/total_char_occurance)*unigram_lambda\n",
    "    return math.log(interp_bigram_pp+interp_unigram_pp)\n",
    "    \n",
    "###\n",
    "# Your answer ENDS HERE\n",
    "###\n",
    "\n",
    "def bigram_guesser(mask, guessed, counts=bigram_counts): \n",
    "    \"\"\"\n",
    "        This function implements a bigram guesser. It returns a guess based on the bigram model using linear interpolation.\n",
    "    \"\"\"\n",
    "    ###\n",
    "    # Your answer BEGINS HERE\n",
    "    ###\n",
    "  \n",
    "    bigram_pp=Counter()\n",
    "    temp_mask=convert_word(mask)\n",
    "    \n",
    "    candidate_chars=[]\n",
    "    for char in list(string.ascii_lowercase):\n",
    "        if char not in guessed:\n",
    "            candidate_chars.append(char)\n",
    "    \n",
    "    for cur_c_index in range(1,len(temp_mask)):\n",
    "        if temp_mask[cur_c_index]=='_' and temp_mask[cur_c_index-1]!='_': \n",
    "        #if temp_mask[cur_c_index]=='_' and temp_mask[cur_c_index-1]!='_': \n",
    "            for char in candidate_chars:\n",
    "                bigram_pp[temp_mask[cur_c_index-1]+char]=get_prob_interp(temp_mask[cur_c_index-1],char)\n",
    "\n",
    "    return_key = list(max(bigram_pp,key=bigram_pp.get))[1]\n",
    "    #print(list(max(bigram_pp,key=bigram_pp.get)))\n",
    "    return return_key\n",
    "\n",
    "    ###\n",
    "    # Your answer ENDS HERE\n",
    "    ###\n",
    "result = test_guesser(bigram_guesser)\n",
    "#print(dic)\n",
    "#print()\n",
    "print(\"Average number of incorrect guesses: \", result)"
   ]
  },
  {
   "cell_type": "markdown",
   "metadata": {},
   "source": [
    "<b>For your testing:</b>"
   ]
  },
  {
   "cell_type": "code",
   "execution_count": 49,
   "metadata": {},
   "outputs": [],
   "source": [
    "assert(result < 13)"
   ]
  },
  {
   "cell_type": "markdown",
   "metadata": {},
   "source": [
    "## 6. Your Own AI Guesser (1 mark)"
   ]
  },
  {
   "cell_type": "markdown",
   "metadata": {},
   "source": [
    "**Instructions:** You should try to develop a more effective AI, `my_ai_guesser`, for hangman. Feel free to engage your creativity here! Possibilities include better conditioning on the length of the word, fancier smoothing methods, and using ngram models. Ensure you report the test performance of your guesser. Have fun!\n",
    "\n",
    "You will be marked based on the explanation of your approach and its accuracy. \n",
    "\n",
    "(1 mark) "
   ]
  },
  {
   "cell_type": "code",
   "execution_count": 50,
   "metadata": {},
   "outputs": [
    {
     "name": "stdout",
     "output_type": "stream",
     "text": [
      "\n",
      "Average number of incorrect guesses:  8.247\n"
     ]
    }
   ],
   "source": [
    "###\n",
    "# Your answer BEGINS HERE\n",
    "###\n",
    "def convert_word_trigram(word):\n",
    "    return ['$']+['$']+[c for c in word]\n",
    "\n",
    "trigram_counts = defaultdict(Counter) \n",
    "#generate the bigram_counts\n",
    "for train_word in training_set:\n",
    "    word_chars=list(train_word)\n",
    "    word_chars=convert_word_trigram(word_chars)\n",
    "    trigram_list=zip(word_chars[:-2],word_chars[1:-1],word_chars[2:]) \n",
    "    for trigram in trigram_list:\n",
    "        fc,sc,tc=trigram\n",
    "        trigram_counts[fc+sc][tc]+=1\n",
    "    \n",
    "\n",
    "def get_trigram_prob_interp(prev_2c,cur_c,unigram_counts=unigram_counts,bigram_counts=bigram_counts,trigram_counts=trigram_counts,lambdas=(0.6,0.2,0.2)):\n",
    "    trigram_lambda=lambdas[0]\n",
    "    bigram_lambda=lambdas[1]\n",
    "    unigram_lambda=lambdas[2] #the sum of them two lambdas should be 1\n",
    "    \n",
    "    #trigram model interpolation part probability\n",
    "    if trigram_counts[prev_2c][cur_c]==0:\n",
    "        interp_trigram_pp=0\n",
    "    else:\n",
    "        if prev_2c=='$$':\n",
    "            prev_bi_counts=len(training_set)\n",
    "        else:\n",
    "            c1,c2=tuple(prev_2c)\n",
    "            prev_bi_counts=bigram_counts[c1][c2]\n",
    "        if prev_bi_counts!=0:\n",
    "            interp_trigram_pp=trigram_counts[prev_2c][cur_c]/float(prev_bi_counts)*trigram_lambda\n",
    "        else:\n",
    "            interp_trigram_pp=0\n",
    "    \n",
    "    c1,c2=tuple(prev_2c)\n",
    "    #get the bigram probability\n",
    "    sm_bigram_counts=bigram_counts[c1][c2]*bigram_lambda\n",
    "    if sm_bigram_counts==0.0:\n",
    "        interp_bigram_pp=0\n",
    "    else:\n",
    "        if c1=='$':\n",
    "            u_counts=len(training_set)\n",
    "        else:\n",
    "            u_counts=unigram_counts[c1]\n",
    "        interp_bigram_pp=sm_bigram_counts/float(u_counts)\n",
    "    \n",
    "    total_char_occurance=sum(unigram_counts.values())\n",
    "    \n",
    "    interp_unigram_pp=(unigram_counts[cur_c]/total_char_occurance)*unigram_lambda\n",
    "    \n",
    "    return interp_trigram_pp+interp_bigram_pp+interp_unigram_pp\n",
    "    \n",
    "\n",
    "def my_ai_guesser(mask, guessed):\n",
    "    trigram_pp=Counter()\n",
    "    temp_mask=convert_word_trigram(mask)\n",
    "    \n",
    "    candidate_chars=[]\n",
    "    for char in list(string.ascii_lowercase):\n",
    "        if char not in guessed:\n",
    "            candidate_chars.append(char)\n",
    "            \n",
    "    for cur_c_index in range(2,len(temp_mask)): \n",
    "        if temp_mask[cur_c_index]=='_' and temp_mask[cur_c_index-1]!='_'and temp_mask[cur_c_index-2]!='_': #means the bigram model could be applied.\n",
    "            for char in candidate_chars:\n",
    "                trigram_pp[temp_mask[cur_c_index-2]+temp_mask[cur_c_index-1]+char]=get_trigram_prob_interp(temp_mask[cur_c_index-2]+temp_mask[cur_c_index-1],char)\n",
    "    \n",
    "    return_key = list(max(trigram_pp,key=trigram_pp.get))[2]\n",
    "    return return_key\n",
    "\n",
    "###\n",
    "# Your answer ENDS HERE\n",
    "###\n",
    "\n",
    "result = test_guesser(my_ai_guesser)\n",
    "print()\n",
    "print(\"Average number of incorrect guesses: \", result)"
   ]
  },
  {
   "cell_type": "markdown",
   "metadata": {},
   "source": [
    "**Instructions:** Explain your approach and discuss your result below. Please keep it brief."
   ]
  },
  {
   "cell_type": "code",
   "execution_count": null,
   "metadata": {},
   "outputs": [],
   "source": []
  }
 ],
 "metadata": {
  "anaconda-cloud": {},
  "kernelspec": {
   "display_name": "Python 3",
   "language": "python",
   "name": "python3"
  },
  "language_info": {
   "codemirror_mode": {
    "name": "ipython",
    "version": 3
   },
   "file_extension": ".py",
   "mimetype": "text/x-python",
   "name": "python",
   "nbconvert_exporter": "python",
   "pygments_lexer": "ipython3",
   "version": "3.6.5"
  }
 },
 "nbformat": 4,
 "nbformat_minor": 1
}
